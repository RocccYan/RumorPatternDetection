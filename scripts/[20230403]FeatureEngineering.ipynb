{
 "cells": [
  {
   "cell_type": "markdown",
   "id": "f04e8edb",
   "metadata": {},
   "source": [
    "## import and load"
   ]
  },
  {
   "cell_type": "code",
   "execution_count": 6,
   "id": "0319a5d3",
   "metadata": {
    "ExecuteTime": {
     "end_time": "2023-04-03T06:20:30.293839Z",
     "start_time": "2023-04-03T06:20:25.976851Z"
    }
   },
   "outputs": [],
   "source": [
    "from utils import *"
   ]
  },
  {
   "cell_type": "code",
   "execution_count": 7,
   "id": "48ea4be7",
   "metadata": {
    "ExecuteTime": {
     "end_time": "2023-04-04T06:12:51.308409Z",
     "start_time": "2023-04-04T06:12:51.166937Z"
    }
   },
   "outputs": [
    {
     "name": "stdout",
     "output_type": "stream",
     "text": [
      "/Users/roccc/Desktop/Projects/jpnb/[202304]谣言可解释\r\n"
     ]
    }
   ],
   "source": [
    "!pwd"
   ]
  },
  {
   "cell_type": "code",
   "execution_count": 13,
   "id": "db563cbe",
   "metadata": {
    "ExecuteTime": {
     "end_time": "2023-04-04T07:37:13.507704Z",
     "start_time": "2023-04-04T07:37:13.501815Z"
    }
   },
   "outputs": [
    {
     "name": "stdout",
     "output_type": "stream",
     "text": [
      "workspace: /Users/roccc/Desktop/Projects/rumor_detection/data/pheme-2/PHEME/6392078/PHEME_veracity/all-rnr-annotated-threads\n"
     ]
    }
   ],
   "source": [
    "pheme_path = '/Users/roccc/Desktop/Projects/rumor_detection/data/pheme-2/PHEME/6392078/PHEME_veracity/all-rnr-annotated-threads'\n",
    "set_workspace(pheme_path)"
   ]
  },
  {
   "cell_type": "code",
   "execution_count": 19,
   "id": "98c0bd99",
   "metadata": {
    "ExecuteTime": {
     "end_time": "2023-04-04T07:42:03.440304Z",
     "start_time": "2023-04-04T07:42:03.435188Z"
    }
   },
   "outputs": [],
   "source": [
    "def load_json(filepath, encoding='utf-8'):\n",
    "    with open(filepath, 'r', encoding=encoding) as fh:\n",
    "        return json.load(fh)"
   ]
  },
  {
   "cell_type": "markdown",
   "id": "ef5da639",
   "metadata": {},
   "source": [
    "## extract features"
   ]
  },
  {
   "cell_type": "markdown",
   "id": "b7627527",
   "metadata": {},
   "source": [
    "Textual features:\n",
    "1. length\n",
    "2. sentiment,\n",
    "3. topic, \n",
    "4. has_image/media,\n",
    "    - `attachments.media_keys` or `media`\n",
    "5. has_hashtag,\n",
    "6. has_mention,\n",
    "7. has_url,\n",
    "\n",
    "User features:\n",
    "1. \\# followers,\n",
    "2. \\# followees,\n",
    "3. \\# posts,\n",
    "<!-- 4. gender, -->\n",
    "5. location,\n",
    "6. verified,\n",
    "7. geo_enabled\n",
    "\n",
    "Propagation features:\n",
    "1. \\# favorates,\n",
    "2. \\# retweets,\n",
    "3. \\# comments,\n",
    "4. size,\n",
    "5. depth,"
   ]
  },
  {
   "cell_type": "markdown",
   "id": "4399b21c",
   "metadata": {},
   "source": [
    "- length, senti, topic 用events_text.json抽；\n",
    "- has_image, hashtag, mention, url, 用原数据中0节点的json抽；\n",
    "- user part, gender, location用原数据中的0节点的json的user抽；\n",
    "- propagation用已经抽好的pheme pyg dataset抽；num_nodes, num_edges, propatation_depth"
   ]
  },
  {
   "cell_type": "markdown",
   "id": "a09a7ca1",
   "metadata": {},
   "source": [
    "## 用原始数据抽"
   ]
  },
  {
   "cell_type": "code",
   "execution_count": 20,
   "id": "7e9f83f7",
   "metadata": {
    "ExecuteTime": {
     "end_time": "2023-04-04T07:42:12.493297Z",
     "start_time": "2023-04-04T07:42:12.484774Z"
    },
    "code_folding": [
     0
    ]
   },
   "outputs": [],
   "source": [
    "def get_features_by_node(node):\n",
    "    nid = node['id']\n",
    "    has_image = len(node.get('attachments',[]))\n",
    "    has_hashtag = len(node.get('entities').get('hashtags',[]))\n",
    "    has_mention = len(node.get('entities').get('user_mentions',[]))\n",
    "    has_url = len(node.get('entities').get('urls',[]))\n",
    "    \n",
    "    # user features\n",
    "    location = node.get('user').get('location')\n",
    "    verified = node.get('user').get('verified')\n",
    "    geo_enabled = node.get('user').get('geo_enabled')\n",
    "    \n",
    "    return [has_image,has_hashtag,has_mention, has_url, location, verified, geo_enabled]\n",
    "\n",
    "# def get_user_features_by_node(node):\n",
    "#     nid = node['id']\n",
    "# #     gender = node.get('user',[])\n",
    "#     location = node.get('user').get('location')\n",
    "#     verified = node.get('user').get('verified')\n",
    "#     geo_enabled = node.get('user').get('geo_enabled')\n",
    "\n",
    "#     return [location, verified, geo_enabled]\n",
    "\n",
    "def get_node_features_by_event(eid, eid_path):\n",
    "#   print(eid)\n",
    "    event_nodes_features = {}\n",
    "    \n",
    "    source_node = load_json(f'{eid_path}/source-tweets/{eid}.json',encoding='windows-1252')\n",
    "    event_nodes_features.update({eid: get_features_by_node(source_node)})\n",
    "    return event_nodes_features"
   ]
  },
  {
   "cell_type": "code",
   "execution_count": 27,
   "id": "4c42b115",
   "metadata": {
    "ExecuteTime": {
     "end_time": "2023-04-04T07:45:39.887223Z",
     "start_time": "2023-04-04T07:45:38.767455Z"
    },
    "code_folding": [
     1
    ],
    "collapsed": true
   },
   "outputs": [
    {
     "name": "stdout",
     "output_type": "stream",
     "text": [
      ".DS_Store\n",
      "germanwings-crash-all-rnr-threads\n",
      "prince-toronto-all-rnr-threads\n",
      "ebola-essien-all-rnr-threads\n",
      "ferguson-all-rnr-threads\n",
      "charliehebdo-all-rnr-threads\n",
      "putinmissing-all-rnr-threads\n",
      "ottawashooting-all-rnr-threads\n",
      "sydneysiege-all-rnr-threads\n",
      "gurlitt-all-rnr-threads\n"
     ]
    }
   ],
   "source": [
    "events_nodes_features_dict = {}\n",
    "for folder in os.listdir(pheme_path):\n",
    "    print(f'{folder}')\n",
    "    if folder.endswith('threads'):\n",
    "        file_path = os.path.join(pheme_path, folder)\n",
    "    else:\n",
    "        continue\n",
    "    rumors_path = os.path.join(file_path, 'rumours')\n",
    "    non_rumors_path = os.path.join(file_path, 'non-rumours')\n",
    "    \n",
    "    rumors_files = list(filter(lambda x: x[-1] != 'e', os.listdir(rumors_path)))\n",
    "    non_rumors_files = list(filter(lambda x: x[-1] != 'e', os.listdir(non_rumors_path)))\n",
    "    \n",
    "    events_rumors_nodes_text = dict(map(lambda eid:\n",
    "                                                (eid, get_node_features_by_event(eid, os.path.join(rumors_path,eid))),\n",
    "                                               rumors_files))\n",
    "    events_nodes_features_dict.update(events_rumors_nodes_text)\n",
    "\n",
    "    \n",
    "    events_non_rumors_nodes_text = dict(map(lambda eid:\n",
    "                                                (eid, get_node_features_by_event(eid, os.path.join(non_rumors_path,eid))),\n",
    "                                               non_rumors_files))\n",
    "    events_nodes_features_dict.update(events_non_rumors_nodes_text)\n"
   ]
  },
  {
   "cell_type": "code",
   "execution_count": 28,
   "id": "df62353e",
   "metadata": {
    "ExecuteTime": {
     "end_time": "2023-04-04T07:45:41.624778Z",
     "start_time": "2023-04-04T07:45:41.614968Z"
    }
   },
   "outputs": [],
   "source": [
    "# events_nodes_features_dict\n",
    "events_nodes_features_dict = {id_: v[id_] for id_,v in events_nodes_features_dict.items()}"
   ]
  },
  {
   "cell_type": "code",
   "execution_count": 32,
   "id": "1910ff3b",
   "metadata": {
    "ExecuteTime": {
     "end_time": "2023-04-04T07:46:31.350189Z",
     "start_time": "2023-04-04T07:46:31.301017Z"
    }
   },
   "outputs": [],
   "source": [
    "# len(events_nodes_features_dict)\n",
    "save_as_json(events_nodes_features_dict, 'events_root_nodes_features_dict.json')"
   ]
  },
  {
   "cell_type": "markdown",
   "id": "10aecb10",
   "metadata": {},
   "source": [
    "### text features"
   ]
  },
  {
   "cell_type": "code",
   "execution_count": null,
   "id": "e123dc86",
   "metadata": {},
   "outputs": [],
   "source": []
  },
  {
   "cell_type": "markdown",
   "id": "5f5d382a",
   "metadata": {},
   "source": [
    "### user features"
   ]
  },
  {
   "cell_type": "markdown",
   "id": "75da1c11",
   "metadata": {},
   "source": [
    "### propagation features"
   ]
  },
  {
   "cell_type": "code",
   "execution_count": null,
   "id": "cef48b51",
   "metadata": {},
   "outputs": [],
   "source": []
  }
 ],
 "metadata": {
  "kernelspec": {
   "display_name": "Python [conda env:stats]",
   "language": "python",
   "name": "conda-env-stats-py"
  },
  "language_info": {
   "codemirror_mode": {
    "name": "ipython",
    "version": 3
   },
   "file_extension": ".py",
   "mimetype": "text/x-python",
   "name": "python",
   "nbconvert_exporter": "python",
   "pygments_lexer": "ipython3",
   "version": "3.10.4"
  },
  "latex_envs": {
   "LaTeX_envs_menu_present": true,
   "autoclose": false,
   "autocomplete": true,
   "bibliofile": "biblio.bib",
   "cite_by": "apalike",
   "current_citInitial": 1,
   "eqLabelWithNumbers": true,
   "eqNumInitial": 1,
   "hotkeys": {
    "equation": "Ctrl-E",
    "itemize": "Ctrl-I"
   },
   "labels_anchors": false,
   "latex_user_defs": false,
   "report_style_numbering": false,
   "user_envs_cfg": false
  }
 },
 "nbformat": 4,
 "nbformat_minor": 5
}
