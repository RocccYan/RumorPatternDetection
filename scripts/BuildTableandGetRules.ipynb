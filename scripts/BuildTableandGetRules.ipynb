{
 "cells": [
  {
   "cell_type": "code",
   "execution_count": 28,
   "metadata": {},
   "outputs": [],
   "source": [
    "import json\n",
    "import os"
   ]
  },
  {
   "cell_type": "code",
   "execution_count": 29,
   "metadata": {},
   "outputs": [],
   "source": [
    "def read_json(json_file):\n",
    "    with open(json_file, 'r') as fh:\n",
    "        json_data = json.load(fh)\n",
    "    return json_data\n",
    "\n",
    "def save_as_json(data, filename):\n",
    "    with open(filename, 'w', encoding='utf-8') as fh:\n",
    "        json.dump(data, fh, ensure_ascii=False, indent=4)"
   ]
  },
  {
   "cell_type": "code",
   "execution_count": 30,
   "metadata": {},
   "outputs": [],
   "source": [
    "def check_dictionary(_dic):\n",
    "    # check\n",
    "    print(len(_dic.keys()))\n",
    "    print(list(_dic.keys())[:5])\n",
    "    print(list(_dic.items())[:10])"
   ]
  },
  {
   "cell_type": "markdown",
   "metadata": {},
   "source": [
    "### build table, get all kinds of features together."
   ]
  },
  {
   "cell_type": "code",
   "execution_count": 31,
   "metadata": {},
   "outputs": [],
   "source": [
    "# labels\n",
    "session_labels = read_json('./data/CED_Dataset/session_labels.json')"
   ]
  },
  {
   "cell_type": "code",
   "execution_count": 32,
   "metadata": {},
   "outputs": [],
   "source": [
    "# topics\n",
    "session_topics = read_json('./data/CED_Dataset/rumor_topic_gpt.json')\n",
    "session_topics = {_id:value.get('category','其他') for _id, value in session_topics.items()}"
   ]
  },
  {
   "cell_type": "code",
   "execution_count": 33,
   "metadata": {},
   "outputs": [],
   "source": [
    "# CARS\n",
    "session_cars = read_json('./data/CED_Dataset/rumor_cars_gpt.json')"
   ]
  },
  {
   "cell_type": "code",
   "execution_count": 34,
   "metadata": {},
   "outputs": [],
   "source": [
    "# sentiment\n",
    "session_sentiment = read_json('./data/CED_Dataset/rumor_sentiment_gpt.json')\n",
    "session_sentiment = {_id:value.get('情绪','其他') for _id, value in session_sentiment.items()}"
   ]
  },
  {
   "cell_type": "code",
   "execution_count": null,
   "metadata": {},
   "outputs": [],
   "source": [
    "# others: length, #media, #hashtags\n",
    "blog_data = read_json('./data/CED_Dataset/blog_features.json')\n",
    "    # \"zlKxCwIG1\": {\n",
    "    #     \"multi\": null,\n",
    "    #     \"text\": \"2月30号，阿拉了该放假，蒙牛却在为阿拉生产良心奶\",\n",
    "    #     \"has_url\": false,\n",
    "    #     \"comments\": 30,\n",
    "    #     \"pics\": 1,\n",
    "    #     \"source\": \"微博 weibo.com\",\n",
    "    #     \"likes\": 3,\n",
    "    #     \"time\": 1362307624.0,\n",
    "    #     \"reposts\": 170,\n",
    "    #     \"user_id\": \"2771041282\"\n",
    "    # },\n",
    "\n",
    "blog_length = {_id: len(value['text']) for _id, value in blog_data.items() if _id in session_labels}\n",
    "blog_has_url = {_id: value['has_url'] for _id, value in blog_data.items() if 'has_url' in value}\n",
    "blog_pics = {_id: value['pics'] for _id, value in blog_data.items() if 'pics' in value}\n",
    "blog_multi_media = {_id: value['multi'] for _id, value in blog_data.items() if 'multi' in value}"
   ]
  },
  {
   "cell_type": "code",
   "execution_count": null,
   "metadata": {},
   "outputs": [],
   "source": [
    "# user profiles: (# followers, # followings, # posts, gender, geo, verified\n",
    "user_features = read_json('./data/CED_Dataset/users_features.json')\n",
    "\n",
    "user_followers = {}\n",
    "user_verified_type = {}\n",
    "user_gender = {}\n",
    "user_messages = {}\n",
    "user_friends = {}\n",
    "user_description = {}\n",
    "\n",
    "\n",
    "for _id in session_labels.keys():\n",
    "    if user_id := blog_data[_id]['user_id']:\n",
    "        user_feature = user_features[user_id]\n",
    "    if isinstance(user_feature,dict):\n",
    "        user_followers[_id] = user_feature['followers']\n",
    "        user_verified_type[_id] = user_feature['verified_type']\n",
    "        user_gender[_id] = user_feature['gender']\n",
    "        user_messages[_id] = user_feature['messages']\n",
    "        user_friends[_id] = user_feature['friends']\n",
    "        user_description[_id] = user_feature['description']"
   ]
  },
  {
   "cell_type": "code",
   "execution_count": null,
   "metadata": {},
   "outputs": [],
   "source": [
    "# graph structure, (# favorites, # retweets, # comments, # nodes, # edges, max_depth, num_depth_structure/nodes, num_breadth_structure/nodes)\n",
    "\n",
    "blog_likes = {_id: value['likes'] for _id, value in blog_data.items() if _id in session_labels}\n",
    "blog_comments = {_id: value['comments'] for _id, value in blog_data.items()  if _id in session_labels}\n",
    "blog_reposts = {_id: value['reposts'] for _id, value in blog_data.items()  if _id in session_labels}"
   ]
  },
  {
   "cell_type": "code",
   "execution_count": null,
   "metadata": {},
   "outputs": [],
   "source": [
    "blog_graph_features = read_json('./data/CED_Dataset/features_graph_structures.json')"
   ]
  },
  {
   "cell_type": "code",
   "execution_count": null,
   "metadata": {},
   "outputs": [
    {
     "name": "stdout",
     "output_type": "stream",
     "text": [
      "3387\n",
      "['zlKxCwIG1', 'ynhebeIqb', 'z6wwfpabk', 'z4zqK6C0p', 'zsZvCcegh']\n",
      "[('zlKxCwIG1', {'num_nodes': 169, 'max_depth': 4, 'num_depth_structure': 57, 'num_breadth_structure': 6123.0}), ('ynhebeIqb', {'num_nodes': 831, 'max_depth': 11, 'num_depth_structure': 468, 'num_breadth_structure': 66643.0}), ('z6wwfpabk', {'num_nodes': 257, 'max_depth': 7, 'num_depth_structure': 61, 'num_breadth_structure': 18949.0}), ('z4zqK6C0p', {'num_nodes': 171, 'max_depth': 3, 'num_depth_structure': 59, 'num_breadth_structure': 6167.0}), ('zsZvCcegh', {'num_nodes': 147, 'max_depth': 4, 'num_depth_structure': 38, 'num_breadth_structure': 5858.0}), ('yFrLkhFEQ', {'num_nodes': 760, 'max_depth': 9, 'num_depth_structure': 495, 'num_breadth_structure': 46008.0}), ('yArux0bEt', {'num_nodes': 147, 'max_depth': 7, 'num_depth_structure': 64, 'num_breadth_structure': 3405.0}), ('zn9INzOD4', {'num_nodes': 111, 'max_depth': 4, 'num_depth_structure': 7, 'num_breadth_structure': 5253.0}), ('yxxXM7KNd', {'num_nodes': 402, 'max_depth': 6, 'num_depth_structure': 121, 'num_breadth_structure': 39087.0}), ('z71GkCrrD', {'num_nodes': 149, 'max_depth': 3, 'num_depth_structure': 25, 'num_breadth_structure': 7528.0})]\n"
     ]
    }
   ],
   "source": [
    "check_dictionary(blog_graph_features)"
   ]
  },
  {
   "cell_type": "code",
   "execution_count": null,
   "metadata": {},
   "outputs": [],
   "source": [
    "# merge\n",
    "import pandas as pd\n",
    "sessions_data = pd.concat([\n",
    "    pd.Series(session_labels),\n",
    "    pd.Series(session_topics),\n",
    "    pd.Series(session_sentiment),\n",
    "    pd.Series(blog_length),\n",
    "    pd.Series(blog_has_url),\n",
    "    pd.Series(blog_pics),\n",
    "    pd.Series(blog_multi_media),\n",
    "\n",
    "    pd.Series(user_followers),\n",
    "    pd.Series(user_verified_type),\n",
    "    pd.Series(user_gender),\n",
    "    pd.Series(user_messages),\n",
    "    pd.Series(user_friends),\n",
    "    pd.Series(user_description),\n",
    "    \n",
    "    pd.Series(blog_likes),\n",
    "    pd.Series(blog_comments),\n",
    "    pd.Series(blog_reposts),\n",
    "    pd.DataFrame.from_dict(session_cars, orient='index'),\n",
    "    pd.DataFrame.from_dict(blog_graph_features, orient='index'),\n",
    "    ], axis=1\n",
    ")"
   ]
  },
  {
   "cell_type": "code",
   "execution_count": null,
   "metadata": {},
   "outputs": [
    {
     "name": "stdout",
     "output_type": "stream",
     "text": [
      "<class 'pandas.core.frame.DataFrame'>\n",
      "Index: 3387 entries, zlKxCwIG1 to hzvscv\n",
      "Data columns (total 24 columns):\n",
      " #   Column                 Non-Null Count  Dtype  \n",
      "---  ------                 --------------  -----  \n",
      " 0   label                  3387 non-null   int64  \n",
      " 1   topic                  3299 non-null   object \n",
      " 2   sentiment              3266 non-null   object \n",
      " 3   length                 3387 non-null   int64  \n",
      " 4   has_url                3387 non-null   bool   \n",
      " 5   num_pics               3387 non-null   int64  \n",
      " 6   has_multimedia         0 non-null      object \n",
      " 7   num_followers          3304 non-null   float64\n",
      " 8   verified_type          3304 non-null   float64\n",
      " 9   gender                 3304 non-null   object \n",
      " 10  num_posts              3304 non-null   float64\n",
      " 11  num_friends            3304 non-null   float64\n",
      " 12  has_description        3304 non-null   object \n",
      " 13  num_likes              3387 non-null   int64  \n",
      " 14  num_comments           3387 non-null   int64  \n",
      " 15  num_reposts            3387 non-null   int64  \n",
      " 16  credibility            3378 non-null   float64\n",
      " 17  accuracy               3378 non-null   float64\n",
      " 18  reasonableness         3378 non-null   float64\n",
      " 19  support                3378 non-null   float64\n",
      " 20  num_nodes              3387 non-null   int64  \n",
      " 21  max_depth              3387 non-null   int64  \n",
      " 22  num_depth_structure    3387 non-null   int64  \n",
      " 23  num_breadth_structure  3387 non-null   float64\n",
      "dtypes: bool(1), float64(9), int64(9), object(5)\n",
      "memory usage: 638.4+ KB\n"
     ]
    }
   ],
   "source": [
    "sessions_data.columns = [\n",
    "    'label','topic','sentiment','length',\n",
    "    'has_url','num_pics','has_multimedia',\n",
    "    'num_followers','verified_type','gender',\n",
    "    'num_posts','num_friends','has_description',\n",
    "    'num_likes','num_comments','num_reposts',\n",
    "    'credibility','accuracy','reasonableness','support',\n",
    "    'num_nodes','max_depth','num_depth_structure','num_breadth_structure',\n",
    "]\n",
    "sessions_data.info()"
   ]
  },
  {
   "cell_type": "code",
   "execution_count": null,
   "metadata": {},
   "outputs": [],
   "source": [
    "# pd.Series(blog_length)\n",
    "# pd.DataFrame.from_dict(session_labels, orient='index')"
   ]
  },
  {
   "cell_type": "markdown",
   "metadata": {},
   "source": [
    "### check and clean"
   ]
  },
  {
   "cell_type": "code",
   "execution_count": null,
   "metadata": {},
   "outputs": [],
   "source": [
    "sessions_data.drop('has_multimedia', axis=1, inplace=True)"
   ]
  },
  {
   "cell_type": "code",
   "execution_count": null,
   "metadata": {},
   "outputs": [],
   "source": [
    "sessions_data.dropna(inplace=True)"
   ]
  },
  {
   "cell_type": "code",
   "execution_count": 39,
   "metadata": {},
   "outputs": [],
   "source": [
    "category_variables = [\n",
    "    'topic','sentiment',\n",
    "    'has_url','verified_type','gender','has_description',\n",
    "]\n",
    "sessions_data[category_variables] = sessions_data[category_variables].astype('category')"
   ]
  },
  {
   "cell_type": "code",
   "execution_count": null,
   "metadata": {},
   "outputs": [],
   "source": [
    "sessions_data.info()"
   ]
  },
  {
   "cell_type": "markdown",
   "metadata": {},
   "source": [
    "### check by features"
   ]
  },
  {
   "cell_type": "code",
   "execution_count": null,
   "metadata": {},
   "outputs": [],
   "source": [
    "!pip install matplotlib"
   ]
  },
  {
   "cell_type": "code",
   "execution_count": 64,
   "metadata": {},
   "outputs": [],
   "source": [
    "from matplotlib import pyplot as plt\n",
    "import matplotlib"
   ]
  },
  {
   "cell_type": "code",
   "execution_count": 69,
   "metadata": {},
   "outputs": [],
   "source": [
    "def label_distribution(feature_name, dataframe, y=None):\n",
    "    \"\"\"\n",
    "    input with feature name, dataframe, and may have a y for group;\n",
    "    feature can be \n",
    "    \"\"\"\n",
    "    # Separate data based on labels\n",
    "    for label in set(list(dataframe[y])):\n",
    "\n",
    "        label_data = dataframe[dataframe[y] == label][feature_name]\n",
    "        plt.hist(label_data, bins='auto', alpha=0.2, label=f'Label {label}')\n",
    "\n",
    "    # Set labels and title\n",
    "    # plt.xlabel('Feature')\n",
    "    # plt.ylabel('Frequency')\n",
    "    # plt.title('Distribution of Feature by Label')\n",
    "\n",
    "    # Add legend\n",
    "    plt.legend()\n",
    "\n",
    "    # Display the plot\n",
    "    plt.show()\n"
   ]
  },
  {
   "cell_type": "code",
   "execution_count": 65,
   "metadata": {},
   "outputs": [
    {
     "data": {
      "text/plain": [
       "<Axes: >"
      ]
     },
     "execution_count": 65,
     "metadata": {},
     "output_type": "execute_result"
    },
    {
     "data": {
      "image/png": "[encoded data removed]",
      "text/plain": [
       "<Figure size 640x480 with 1 Axes>"
      ]
     },
     "metadata": {},
     "output_type": "display_data"
    }
   ],
   "source": [
    "# sessions_data.info()\n",
    "# sessions_data['gender'].hist()\n",
    "label_distribution()"
   ]
  },
  {
   "cell_type": "code",
   "execution_count": 67,
   "metadata": {},
   "outputs": [
    {
     "data": {
      "image/png": "[encoded data removed]",
      "text/plain": [
       "<Figure size 640x480 with 1 Axes>"
      ]
     },
     "metadata": {},
     "output_type": "display_data"
    }
   ],
   "source": [
    "import matplotlib.pyplot as plt\n",
    "import pandas as pd\n",
    "\n",
    "\n"
   ]
  },
  {
   "cell_type": "markdown",
   "metadata": {},
   "source": [
    "### rulefit"
   ]
  },
  {
   "cell_type": "code",
   "execution_count": null,
   "metadata": {},
   "outputs": [],
   "source": [
    "from rulefit import RuleFit"
   ]
  },
  {
   "cell_type": "code",
   "execution_count": null,
   "metadata": {},
   "outputs": [],
   "source": [
    "from sklearn.preprocessing import OneHotEncoder"
   ]
  },
  {
   "cell_type": "code",
   "execution_count": 44,
   "metadata": {},
   "outputs": [],
   "source": [
    "y = sessions_data.label.values\n",
    "X_columns = [\n",
    "    'topic','sentiment','length',\n",
    "    'has_url','num_pics','verified_type',\n",
    "    'num_followers','gender',\n",
    "    'num_posts','num_friends','has_description',\n",
    "    'num_likes','num_comments','num_reposts',\n",
    "    'credibility','accuracy','reasonableness','support',\n",
    "    'num_nodes','max_depth','num_depth_structure','num_breadth_structure',\n",
    "]\n",
    "X = sessions_data[X_columns]\n"
   ]
  },
  {
   "cell_type": "code",
   "execution_count": 49,
   "metadata": {},
   "outputs": [],
   "source": [
    "encoder = OneHotEncoder(drop='first')\n",
    "\n",
    "X_encoded = encoder.fit_transform(X[category_variables])\n",
    "X_encoded_df = pd.DataFrame(X_encoded.toarray(), columns=encoder.get_feature_names_out(category_variables), index=X.index)\n",
    "X_cat = pd.concat([X.drop(category_variables, axis=1), X_encoded_df], axis=1)"
   ]
  },
  {
   "cell_type": "code",
   "execution_count": null,
   "metadata": {},
   "outputs": [],
   "source": [
    "X_cat.info()\n",
    "# X_cat.isnull()"
   ]
  },
  {
   "cell_type": "code",
   "execution_count": 54,
   "metadata": {},
   "outputs": [],
   "source": [
    "# from sklearn.ensemble import GradientBoostingRegressor\n",
    "# gb = GradientBoostingRegressor(n_estimators=500, max_depth=10, learning_rate=0.01)\n",
    "# rf = RuleFit(gb)\n",
    "\n",
    "# rf.fit(X, y, feature_names=features)\n"
   ]
  },
  {
   "cell_type": "code",
   "execution_count": null,
   "metadata": {},
   "outputs": [],
   "source": [
    "X_cat_values = X_cat.values\n",
    "\n",
    "rf = RuleFit()\n",
    "rf.fit(X_cat_values, y, feature_names=X_cat.columns)"
   ]
  },
  {
   "cell_type": "code",
   "execution_count": 55,
   "metadata": {},
   "outputs": [
    {
     "name": "stdout",
     "output_type": "stream",
     "text": [
      "                                                   rule    type          coef  \\\n",
      "3                                             num_posts  linear  3.385289e-07   \n",
      "12                                            num_nodes  linear  9.158694e-05   \n",
      "43                                           topic_社会秩序  linear  1.217882e-02   \n",
      "55                                           topic_财产安全  linear  4.073411e-02   \n",
      "86                                    verified_type_2.0  linear -1.485558e-03   \n",
      "...                                                 ...     ...           ...   \n",
      "1364  max_depth > 6.5 & max_depth > 2.5 & num_repost...    rule  2.370049e-02   \n",
      "131              num_posts > 133710.0 & num_likes > 0.5    rule  6.190522e-03   \n",
      "1225  max_depth > 2.5 & num_reposts <= 210.0 & num_n...    rule -3.019314e-02   \n",
      "466          num_followers <= 2169.5 & topic_奇闻趣事 > 0.5    rule -2.099134e-02   \n",
      "291   num_followers <= 1994642.0 & sentiment_积极 <= 0...    rule  1.497722e-02   \n",
      "\n",
      "       support  importance  \n",
      "3     1.000000    0.011889  \n",
      "12    1.000000    0.021228  \n",
      "43    1.000000    0.002033  \n",
      "55    1.000000    0.006459  \n",
      "86    1.000000    0.000336  \n",
      "...        ...         ...  \n",
      "1364  0.011468    0.002523  \n",
      "131   0.011468    0.000659  \n",
      "1225  0.009174    0.002879  \n",
      "466   0.009174    0.002001  \n",
      "291   0.006881    0.001238  \n",
      "\n",
      "[323 rows x 5 columns]\n"
     ]
    }
   ],
   "source": [
    "rules = rf.get_rules()\n",
    "\n",
    "rules = rules[rules.coef != 0].sort_values(\"support\", ascending=False)\n",
    "\n",
    "print(rules)"
   ]
  },
  {
   "cell_type": "code",
   "execution_count": 58,
   "metadata": {},
   "outputs": [],
   "source": [
    "# type(rules)\n",
    "rules.to_csv('./rules_01.csv',sep='^',index=False)"
   ]
  },
  {
   "cell_type": "code",
   "execution_count": null,
   "metadata": {},
   "outputs": [],
   "source": []
  }
 ],
 "metadata": {
  "kernelspec": {
   "display_name": "Python 3.8.13 ('base')",
   "language": "python",
   "name": "python3"
  },
  "language_info": {
   "codemirror_mode": {
    "name": "ipython",
    "version": 3
   },
   "file_extension": ".py",
   "mimetype": "text/x-python",
   "name": "python",
   "nbconvert_exporter": "python",
   "pygments_lexer": "ipython3",
   "version": "3.8.13"
  },
  "orig_nbformat": 4,
  "vscode": {
   "interpreter": {
    "hash": "af4cae1d33afabff0d5dde051c0ee7a26a038333a876f2a3cf79d9bdc4a9801e"
   }
  }
 },
 "nbformat": 4,
 "nbformat_minor": 2
}
